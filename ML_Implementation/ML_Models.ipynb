{
  "cells": [
    {
      "cell_type": "markdown",
      "metadata": {
        "id": "view-in-github",
        "colab_type": "text"
      },
      "source": [
        "<a href=\"https://colab.research.google.com/github/PavelBodle/AI_Implementaion/blob/main/ML_Implementation/ML_Models.ipynb\" target=\"_parent\"><img src=\"https://colab.research.google.com/assets/colab-badge.svg\" alt=\"Open In Colab\"/></a>"
      ]
    },
    {
      "cell_type": "markdown",
      "source": [
        "# ML Models Implementations"
      ],
      "metadata": {
        "id": "dmwYpnjdi2WJ"
      }
    },
    {
      "cell_type": "code",
      "source": [],
      "metadata": {
        "id": "C6M23KbqjBk_"
      },
      "execution_count": null,
      "outputs": []
    },
    {
      "cell_type": "code",
      "source": [],
      "metadata": {
        "id": "0K1OZwkIjBWB"
      },
      "execution_count": null,
      "outputs": []
    },
    {
      "cell_type": "markdown",
      "source": [
        "# Interview Questions"
      ],
      "metadata": {
        "id": "mIX2wrcVhWhH"
      }
    },
    {
      "cell_type": "code",
      "execution_count": 11,
      "metadata": {
        "id": "dzPgZNGVA5Z4",
        "outputId": "67a24b0e-fa1d-46e6-aa44-a7d2412d1345",
        "colab": {
          "base_uri": "https://localhost:8080/",
          "height": 53
        }
      },
      "outputs": [
        {
          "output_type": "execute_result",
          "data": {
            "text/plain": [
              "'create 3 columns in a pandas dataframe\\n1st & 2nd column : random integer number between 1-50\\n3rd column : random 0 or 1\\ntrain a classification model of your choice using sklearn & print classification report\\nTotal 1000 rows'"
            ],
            "application/vnd.google.colaboratory.intrinsic+json": {
              "type": "string"
            }
          },
          "metadata": {},
          "execution_count": 11
        }
      ],
      "source": [
        "# Coding Question asked in Ericsson\n",
        "'''create 3 columns in a pandas dataframe\n",
        "1st & 2nd column : random integer number between 1-50\n",
        "3rd column : random 0 or 1\n",
        "train a classification model of your choice using sklearn & print classification report\n",
        "Total 1000 rows'''"
      ]
    },
    {
      "cell_type": "code",
      "source": [
        "import pandas as pd\n",
        "import numpy as np\n",
        "from sklearn.model_selection import train_test_split\n",
        "from sklearn.ensemble import RandomForestClassifier\n",
        "from sklearn.metrics import classification_report"
      ],
      "metadata": {
        "id": "9_Xgtn4-hiG9"
      },
      "execution_count": 1,
      "outputs": []
    },
    {
      "cell_type": "code",
      "execution_count": 7,
      "metadata": {
        "id": "ZMztybEIBVEM"
      },
      "outputs": [],
      "source": [
        "# Step 1: Create the DataFrame\n",
        "# np.random.seed(42)  # For reproducibility\n",
        "df = pd.DataFrame({\n",
        "    'Feature1': np.random.randint(1, 51, 1000),\n",
        "    'Feature2': np.random.randint(1, 51, 1000),\n",
        "    'Target': np.random.randint(0, 2, 1000)})"
      ]
    },
    {
      "cell_type": "code",
      "execution_count": 8,
      "metadata": {
        "id": "CvQT88_8ErFh"
      },
      "outputs": [],
      "source": [
        "# Step 2: Prepare features and target\n",
        "X = df[['Feature1', 'Feature2']]\n",
        "y = df['Target']"
      ]
    },
    {
      "cell_type": "code",
      "execution_count": 9,
      "metadata": {
        "id": "1AARCXAwDh2y"
      },
      "outputs": [],
      "source": [
        "# Step 3: Split the data into train and test sets\n",
        "X_train, X_test, y_train, y_test = train_test_split(X, y, test_size=0.2, random_state=42)\n",
        "\n",
        "# Step 4: Train a Random Forest Classifier\n",
        "model = RandomForestClassifier(random_state=42)\n",
        "model.fit(X_train, y_train)\n",
        "\n",
        "# Step 5: Predict and print classification report\n",
        "y_pred = model.predict(X_test)"
      ]
    },
    {
      "cell_type": "code",
      "execution_count": 10,
      "metadata": {
        "id": "T8XoBWdNhCfc",
        "outputId": "556a8516-87f7-46c0-901b-40d41694c63e",
        "colab": {
          "base_uri": "https://localhost:8080/"
        }
      },
      "outputs": [
        {
          "output_type": "stream",
          "name": "stdout",
          "text": [
            "              precision    recall  f1-score   support\n",
            "\n",
            "           0       0.54      0.46      0.50       113\n",
            "           1       0.41      0.49      0.45        87\n",
            "\n",
            "    accuracy                           0.47       200\n",
            "   macro avg       0.48      0.48      0.47       200\n",
            "weighted avg       0.49      0.47      0.48       200\n",
            "\n"
          ]
        }
      ],
      "source": [
        "print(classification_report(y_test, y_pred))"
      ]
    }
  ],
  "metadata": {
    "colab": {
      "provenance": [],
      "toc_visible": true,
      "include_colab_link": true
    },
    "kernelspec": {
      "display_name": "base",
      "language": "python",
      "name": "python3"
    },
    "language_info": {
      "codemirror_mode": {
        "name": "ipython",
        "version": 3
      },
      "file_extension": ".py",
      "mimetype": "text/x-python",
      "name": "python",
      "nbconvert_exporter": "python",
      "pygments_lexer": "ipython3",
      "version": "3.12.7"
    }
  },
  "nbformat": 4,
  "nbformat_minor": 0
}